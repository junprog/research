{
 "cells": [
  {
   "cell_type": "code",
   "execution_count": null,
   "metadata": {},
   "outputs": [],
   "source": [
    "import torch\n",
    "import json\n",
    "import scipy.io as io"
   ]
  },
  {
   "cell_type": "code",
   "execution_count": null,
   "metadata": {},
   "outputs": [],
   "source": [
    "net = io.loadmat('/mnt/hdd02/crownd_counting_results/mat_bagnet33_baseres18_net.mat')\n",
    "print(net)"
   ]
  },
  {
   "cell_type": "code",
   "execution_count": null,
   "metadata": {},
   "outputs": [],
   "source": [
    "params = io.loadmat('/mnt/hdd02/crownd_counting_results/bagnet33_params.mat')\n",
    "for i, _ in enumerate(params['params'][0]):  \n",
    "    print(params['params'][0][i][0], params['params'][0][i][1].shape)\n",
    ""
   ]
  },
  {
   "cell_type": "code",
   "execution_count": null,
   "metadata": {},
   "outputs": [],
   "source": [
    "layers = io.loadmat('/mnt/hdd02/crownd_counting_results/bagnet33_layers.mat')\n",
    "layers.keys()\n",
    "layers['layers'][0][5]"
   ]
  },
  {
   "cell_type": "code",
   "execution_count": null,
   "metadata": {},
   "outputs": [],
   "source": [
    "from models import bagnet33_res18\n",
    "from torchsummary import summary\n",
    "\n",
    "model = bagnet33_res18.bagnet33().cuda()\n",
    "print(model)"
   ]
  },
  {
   "cell_type": "code",
   "execution_count": null,
   "metadata": {},
   "outputs": [],
   "source": [
    "import torch.nn as nn\n",
    "\n",
    "for i, layer in enumerate(model.modules()):\n",
    "    print(i)\n",
    "    if isinstance(layer, nn.Conv2d):\n",
    "        print(layer.weight)\n",
    "        layer.weight = torch.from_numpy(params['params'][0][i][1])\n",
    "    elif isinstance(layer, nn.BatchNorm2d):\n",
    "        layer.weight = torch.from_numpy(params['params'][0][i][1])\n",
    "        layer.bias = torch.from_numpy(params['params'][0][i+1][1])\n",
    "        i += 1"
   ]
  },
  {
   "cell_type": "code",
   "execution_count": null,
   "metadata": {},
   "outputs": [],
   "source": [
    "from torchvision import models\n",
    "\n",
    "model = models.resnet18(pretrained=True)\n",
    "for p in model.bn1.parameters():\n",
    "    print(p)"
   ]
  },
  {
   "cell_type": "code",
   "execution_count": null,
   "metadata": {},
   "outputs": [],
   "source": []
  }
 ],
 "metadata": {
  "kernelspec": {
   "display_name": "Python 3",
   "language": "python",
   "name": "python3"
  },
  "language_info": {
   "codemirror_mode": {
    "name": "ipython",
    "version": 3
   },
   "file_extension": ".py",
   "mimetype": "text/x-python",
   "name": "python",
   "nbconvert_exporter": "python",
   "pygments_lexer": "ipython3",
   "version": "3.5.2-final"
  }
 },
 "nbformat": 4,
 "nbformat_minor": 4
}